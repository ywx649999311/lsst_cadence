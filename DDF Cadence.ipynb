{
 "cells": [
  {
   "cell_type": "code",
   "execution_count": 2,
   "metadata": {},
   "outputs": [
    {
     "data": {
      "text/plain": [
       "'2.6.0.sims'"
      ]
     },
     "execution_count": 2,
     "metadata": {},
     "output_type": "execute_result"
    }
   ],
   "source": [
    "import lsst.sims.maf\n",
    "lsst.sims.maf.__version__"
   ]
  },
  {
   "cell_type": "code",
   "execution_count": 3,
   "metadata": {},
   "outputs": [],
   "source": [
    "%matplotlib inline   \n",
    "import matplotlib.pyplot as plt\n",
    "import numpy as np\n",
    "\n",
    "# import our python modules\n",
    "import lsst.sims.maf.db as db\n",
    "import lsst.sims.maf.metrics as metrics\n",
    "import lsst.sims.maf.slicers as slicers\n",
    "import lsst.sims.maf.stackers as stackers\n",
    "import lsst.sims.maf.plots as plots\n",
    "import lsst.sims.maf.metricBundles as metricBundles"
   ]
  },
  {
   "cell_type": "markdown",
   "metadata": {},
   "source": [
    "## Minon_1016 & DDF"
   ]
  },
  {
   "cell_type": "code",
   "execution_count": 4,
   "metadata": {},
   "outputs": [],
   "source": [
    "# setup database connection\n",
    "outDir ='DDF'\n",
    "dbFile = '/home/mount/minion_1016_sqlite.db'\n",
    "\n",
    "# establish connection to sqllite database file\n",
    "opsimdb = db.OpsimDatabase(dbFile)\n",
    "\n",
    "# specify output directory for metrics result\n",
    "resultsDb = db.ResultsDb(outDir=outDir)"
   ]
  },
  {
   "cell_type": "code",
   "execution_count": 5,
   "metadata": {
    "scrolled": true
   },
   "outputs": [
    {
     "data": {
      "text/plain": [
       "rec.array([( 290,  6.09794381, -1.10515999),\n",
       "           ( 744,  0.        , -0.79455251),\n",
       "           (1427,  0.92518409, -0.47889991),\n",
       "           (2412,  0.60027804, -0.08884285),\n",
       "           (2786,  2.62431809,  0.04950625)], \n",
       "          dtype=[('fieldID', '<i8'), ('fieldRA', '<f8'), ('fieldDec', '<f8')])"
      ]
     },
     "execution_count": 5,
     "metadata": {},
     "output_type": "execute_result"
    }
   ],
   "source": [
    "# DDF fields have a propID of 56\n",
    "opsimdb.fetchFieldsFromFieldTable(propId=56)"
   ]
  },
  {
   "cell_type": "code",
   "execution_count": 15,
   "metadata": {},
   "outputs": [
    {
     "name": "stdout",
     "output_type": "stream",
     "text": [
      "Querying database Summary with constraint fieldID = 744 for columns ['filter', 'fiveSigmaDepth', 'expMJD', 'expDate']\n",
      "Found 24733 visits\n",
      "Running:  ['ddf']\n",
      "Completed metric generation.\n",
      "Running reduce methods.\n",
      "Running summary statistics.\n",
      "Completed.\n"
     ]
    },
    {
     "name": "stderr",
     "output_type": "stream",
     "text": [
      "/home/lsst/stack/miniconda3-4.3.21-10a4fa6/Linux64/sims_maf/2.6.0.sims/python/lsst/sims/maf/db/resultsDb.py:290: UserWarning: Warning! Cannot save non-conforming summary statistic.\n",
      "  warnings.warn('Warning! Cannot save non-conforming summary statistic.')\n"
     ]
    }
   ],
   "source": [
    "# For v3 databases:\n",
    "mjdcol = 'expMJD'\n",
    "degrees = False # (V3 stores lon and lat in radians)\n",
    "\n",
    "# PassMetric just pass all values\n",
    "metric_pass = metrics.simpleMetrics.PassMetric(cols=['filter','fiveSigmaDepth', mjdcol, 'expDate'])\n",
    "slicer = slicers.UniSlicer()\n",
    "# select one of the DDF fields\n",
    "sql = 'fieldID = 744'\n",
    "\n",
    "# bundle together\n",
    "ddf = metricBundles.MetricBundle(metric_pass, slicer, sql)\n",
    "bg = metricBundles.MetricBundleGroup({'ddf': ddf}, opsimdb, outDir=outDir, resultsDb=resultsDb)\n",
    "bg.runAll()"
   ]
  },
  {
   "cell_type": "code",
   "execution_count": 18,
   "metadata": {
    "scrolled": true
   },
   "outputs": [],
   "source": [
    "dt = bg.bundleDict['ddf'].metricValues.data[0]"
   ]
  },
  {
   "cell_type": "code",
   "execution_count": 19,
   "metadata": {},
   "outputs": [
    {
     "data": {
      "text/plain": [
       "array([('z',  22.088572,  59760.43176 ,  15589304),\n",
       "       ('z',  22.037498,  59760.445023,  15590450),\n",
       "       ('y',  21.921016,  59770.355327,  16446700), ...,\n",
       "       ('i',  23.842873,  63215.086885, 314071506),\n",
       "       ('z',  21.844793,  63224.041917, 314845221),\n",
       "       ('z',  22.407117,  63224.058936, 314846692)],\n",
       "      dtype=(numpy.record, [('filter', '<U256'), ('fiveSigmaDepth', '<f8'), ('expMJD', '<f8'), ('expDate', '<i8')]))"
      ]
     },
     "execution_count": 19,
     "metadata": {},
     "output_type": "execute_result"
    }
   ],
   "source": [
    "dt"
   ]
  },
  {
   "cell_type": "code",
   "execution_count": 22,
   "metadata": {},
   "outputs": [],
   "source": [
    "# save cadence to file\n",
    "outF = '/home/mount/ddf_Elias'\n",
    "np.savez(outF, cadence = dt)"
   ]
  },
  {
   "cell_type": "markdown",
   "metadata": {},
   "source": [
    "## Now try to read back data saved to npz"
   ]
  },
  {
   "cell_type": "code",
   "execution_count": 23,
   "metadata": {},
   "outputs": [
    {
     "data": {
      "text/plain": [
       "['cadence']"
      ]
     },
     "execution_count": 23,
     "metadata": {},
     "output_type": "execute_result"
    }
   ],
   "source": [
    "data = np.load('/home/mount/ddf_Elias.npz')\n",
    "data.files"
   ]
  },
  {
   "cell_type": "code",
   "execution_count": 24,
   "metadata": {},
   "outputs": [
    {
     "data": {
      "text/plain": [
       "array([('z',  22.088572,  59760.43176 ,  15589304),\n",
       "       ('z',  22.037498,  59760.445023,  15590450),\n",
       "       ('y',  21.921016,  59770.355327,  16446700), ...,\n",
       "       ('i',  23.842873,  63215.086885, 314071506),\n",
       "       ('z',  21.844793,  63224.041917, 314845221),\n",
       "       ('z',  22.407117,  63224.058936, 314846692)],\n",
       "      dtype=[('filter', '<U256'), ('fiveSigmaDepth', '<f8'), ('expMJD', '<f8'), ('expDate', '<i8')])"
      ]
     },
     "execution_count": 24,
     "metadata": {},
     "output_type": "execute_result"
    }
   ],
   "source": [
    "data['cadence']"
   ]
  },
  {
   "cell_type": "code",
   "execution_count": 25,
   "metadata": {},
   "outputs": [
    {
     "data": {
      "text/plain": [
       "(24733,)"
      ]
     },
     "execution_count": 25,
     "metadata": {},
     "output_type": "execute_result"
    }
   ],
   "source": [
    "# check number of observations\n",
    "data['cadence'].shape"
   ]
  },
  {
   "cell_type": "code",
   "execution_count": null,
   "metadata": {},
   "outputs": [],
   "source": []
  }
 ],
 "metadata": {
  "kernelspec": {
   "display_name": "Python 3",
   "language": "python",
   "name": "python3"
  },
  "language_info": {
   "codemirror_mode": {
    "name": "ipython",
    "version": 3
   },
   "file_extension": ".py",
   "mimetype": "text/x-python",
   "name": "python",
   "nbconvert_exporter": "python",
   "pygments_lexer": "ipython3",
   "version": "3.6.2"
  }
 },
 "nbformat": 4,
 "nbformat_minor": 2
}
