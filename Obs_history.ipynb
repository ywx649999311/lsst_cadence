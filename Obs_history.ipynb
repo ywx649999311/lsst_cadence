{
 "cells": [
  {
   "cell_type": "code",
   "execution_count": 1,
   "metadata": {
    "collapsed": false
   },
   "outputs": [
    {
     "data": {
      "text/plain": [
       "'2.6.0.sims'"
      ]
     },
     "execution_count": 1,
     "metadata": {},
     "output_type": "execute_result"
    }
   ],
   "source": [
    "import lsst.sims.maf\n",
    "lsst.sims.maf.__version__"
   ]
  },
  {
   "cell_type": "code",
   "execution_count": 2,
   "metadata": {
    "collapsed": true
   },
   "outputs": [],
   "source": [
    "%matplotlib inline   \n",
    "import matplotlib.pyplot as plt\n",
    "import numpy as np"
   ]
  },
  {
   "cell_type": "code",
   "execution_count": 3,
   "metadata": {
    "collapsed": true
   },
   "outputs": [],
   "source": [
    "# import our python modules\n",
    "import lsst.sims.maf.db as db\n",
    "import lsst.sims.maf.metrics as metrics\n",
    "import lsst.sims.maf.slicers as slicers\n",
    "import lsst.sims.maf.stackers as stackers\n",
    "import lsst.sims.maf.plots as plots\n",
    "import lsst.sims.maf.metricBundles as metricBundles"
   ]
  },
  {
   "cell_type": "markdown",
   "metadata": {},
   "source": [
    "#### Set Parameters"
   ]
  },
  {
   "cell_type": "code",
   "execution_count": 4,
   "metadata": {
    "collapsed": true
   },
   "outputs": [],
   "source": [
    "# filters = ['u','g','r','i','z','y']\n",
    "# colors={'u': 'cyan','g': 'g','r': 'y',\n",
    "#         'i': 'r','z': 'm', 'y': 'k'}"
   ]
  },
  {
   "cell_type": "code",
   "execution_count": 5,
   "metadata": {
    "collapsed": true
   },
   "outputs": [],
   "source": [
    "# Set RA, Dec for a single point in the sky.\n",
    "# The input ra/dec values should be in DEGREES (even for v3 databases). \n",
    "# ra = [180.0, 10]\n",
    "# dec = [-50.0, 10]\n",
    "# # SNR limit (Don't use points below this limit)\n",
    "# snrLimit = 5.\n",
    "# # Demand this many points above SNR limit before plotting LC\n",
    "# nPtsLimit = 6"
   ]
  },
  {
   "cell_type": "markdown",
   "metadata": {},
   "source": [
    "## Run minion_1016"
   ]
  },
  {
   "cell_type": "code",
   "execution_count": 4,
   "metadata": {
    "collapsed": true
   },
   "outputs": [],
   "source": [
    "# setup database connection\n",
    "outDir ='LightCurve'\n",
    "dbFile = '/home/mount/minion_1016_sqlite.db'\n",
    "# establish connection to sqllite database file\n",
    "opsimdb = db.OpsimDatabase(dbFile)\n",
    "# specify output directory for metrics result\n",
    "resultsDb = db.ResultsDb(outDir=outDir)"
   ]
  },
  {
   "cell_type": "code",
   "execution_count": 5,
   "metadata": {
    "collapsed": true
   },
   "outputs": [],
   "source": [
    "from numpy import amin as m"
   ]
  },
  {
   "cell_type": "code",
   "execution_count": 6,
   "metadata": {
    "collapsed": true
   },
   "outputs": [],
   "source": [
    "# retrive min inter_night gap, and observation history with the input of database file name and\n",
    "# arrays of RA and DEC\n",
    "def find_min_gap(dbFile, ra, dec):\n",
    "    # While we're in transition between opsim v3 and v4, this may be helpful:\n",
    "    print(\"{dbFile} is an opsim version {version} database\".format(dbFile=dbFile, version=opsimdb.opsimVersion))\n",
    "    if opsimdb.opsimVersion == \"V3\":\n",
    "        # For v3 databases:\n",
    "        mjdcol = 'expMJD'\n",
    "        degrees = False\n",
    "    else:\n",
    "        # For v4 and alternate scheduler databases.\n",
    "        mjdcol = 'observationStartMJD'\n",
    "        degrees = True\n",
    "    # Note that astro-lsst-01_2022.db is a v4 database.\n",
    "    \n",
    "    # IntraNightGapsMetric returns the gap (in days) between observations within the same night\n",
    "    # custom reduceFunc to find min gaps \n",
    "    metric = metrics.cadenceMetrics.IntraNightGapsMetric(reduceFunc=np.amin, mjdCol=mjdcol)\n",
    "    # PassMetric just pass all values\n",
    "    metric_pass = metrics.simpleMetrics.PassMetric(cols=['filter','fiveSigmaDepth', mjdcol, 'expDate'])\n",
    "    # slicer for slicing pointing history\n",
    "    slicer = slicers.UserPointsSlicer(ra, dec, lonCol='fieldRA', latCol='fieldDec', latLonDeg=degrees)\n",
    "    # sql constrains, here I put none\n",
    "    sql = '' #'night < 365'\n",
    "    \n",
    "    # bundles to combine metric, slicer and sql constrain together\n",
    "    bundle = metricBundles.MetricBundle(metric,slicer,sql)\n",
    "    date_bundle = metricBundles.MetricBundle(metric_pass, slicer, sql)\n",
    "    # In case you are using a dither stacker, we can check what columns are actually being pulled from the database.\n",
    "    print(bundle.dbCols)\n",
    "    \n",
    "    # create metric bundle group and returns\n",
    "    bg = metricBundles.MetricBundleGroup({'gap': bundle, 'date':date_bundle}, opsimdb, outDir=outDir, resultsDb=resultsDb)\n",
    "    bg.runAll()\n",
    "    return bg"
   ]
  },
  {
   "cell_type": "code",
   "execution_count": 13,
   "metadata": {
    "collapsed": false
   },
   "outputs": [
    {
     "name": "stdout",
     "output_type": "stream",
     "text": [
      "/home/mount/minion_1016_sqlite.db is an opsim version V3 database\n",
      "{'expMJD', 'night', 'fieldRA', 'fieldDec'}\n",
      "Querying database Summary with no constraint for columns ['expMJD', 'fiveSigmaDepth', 'fieldDec', 'fieldRA', 'filter', 'expDate', 'night'].\n",
      "Found 2447931 visits\n",
      "Running:  ['gap', 'date']\n",
      "Completed metric generation.\n",
      "Running reduce methods.\n",
      "Running summary statistics.\n",
      "Completed.\n"
     ]
    }
   ],
   "source": [
    "# assign returned value\n",
    "ra = 10; dec = 10\n",
    "b = find_min_gap(dbFile, ra, dec)"
   ]
  },
  {
   "cell_type": "code",
   "execution_count": 27,
   "metadata": {
    "collapsed": true
   },
   "outputs": [],
   "source": [
    "# min intra_night gap in hours\n",
    "gap = b.bundleDict['gap'].metricValues.data[0]\n",
    "# corresponding pointing history\n",
    "obsHist = b.bundleDict['date'].metricValues.data[0]\n",
    "# position and gap\n",
    "pos_gap = [ra, dec, gap]\n",
    "\n",
    "# Now let's save it to a file\n",
    "outfile = '/home/mount/obs_hist'\n",
    "np.savez(outfile, pos_gap=pos_gap, obsHist=obsHist)"
   ]
  }
 ],
 "metadata": {
  "kernelspec": {
   "display_name": "Python 2",
   "language": "python",
   "name": "python2"
  },
  "language_info": {
   "codemirror_mode": {
    "name": "ipython",
    "version": 2
   },
   "file_extension": ".py",
   "mimetype": "text/x-python",
   "name": "python",
   "nbconvert_exporter": "python",
   "pygments_lexer": "ipython2",
   "version": "2.7.13"
  }
 },
 "nbformat": 4,
 "nbformat_minor": 2
}
