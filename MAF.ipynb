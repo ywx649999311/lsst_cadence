{
 "cells": [
  {
   "cell_type": "code",
   "execution_count": 1,
   "metadata": {},
   "outputs": [
    {
     "data": {
      "text/plain": [
       "'2.6.0.sims'"
      ]
     },
     "execution_count": 1,
     "metadata": {},
     "output_type": "execute_result"
    }
   ],
   "source": [
    "import lsst.sims.maf\n",
    "lsst.sims.maf.__version__"
   ]
  },
  {
   "cell_type": "code",
   "execution_count": 2,
   "metadata": {},
   "outputs": [],
   "source": [
    "%matplotlib inline   \n",
    "import matplotlib.pyplot as plt\n",
    "import numpy as np"
   ]
  },
  {
   "cell_type": "code",
   "execution_count": 3,
   "metadata": {},
   "outputs": [],
   "source": [
    "# import our python modules\n",
    "import lsst.sims.maf.db as db\n",
    "import lsst.sims.maf.metrics as metrics\n",
    "import lsst.sims.maf.slicers as slicers\n",
    "import lsst.sims.maf.stackers as stackers\n",
    "import lsst.sims.maf.plots as plots\n",
    "import lsst.sims.maf.metricBundles as metricBundles"
   ]
  },
  {
   "cell_type": "markdown",
   "metadata": {},
   "source": [
    "## Run minion_1016"
   ]
  },
  {
   "cell_type": "code",
   "execution_count": 4,
   "metadata": {},
   "outputs": [],
   "source": [
    "# setup database connection\n",
    "outDir ='Cadence_compare'\n",
    "Baseline = '/home/mount/Opsim DB/minion_1016_sqlite.db'\n",
    "RollingV2 = '/home/mount/Opsim DB/enigma_1260_sqlite.db'\n",
    "BL_noPair = '/home/mount/Opsim DB/kraken_1043_sqlite.db'\n",
    "\n",
    "# specify output directory for metrics result\n",
    "resultsDb = db.ResultsDb(outDir=outDir)"
   ]
  },
  {
   "cell_type": "code",
   "execution_count": 5,
   "metadata": {},
   "outputs": [],
   "source": [
    "from numpy import amin as m"
   ]
  },
  {
   "cell_type": "code",
   "execution_count": 6,
   "metadata": {},
   "outputs": [],
   "source": [
    "# retrive min inter_night gap, and observation history with the input of database file name and\n",
    "# arrays of RA and DEC\n",
    "def find_min_gap(dbFile, ra, dec):\n",
    "    # establish connection to sqllite database file\n",
    "    opsimdb = db.OpsimDatabase(dbFile)\n",
    "    \n",
    "    # While we're in transition between opsim v3 and v4, this may be helpful:\n",
    "#   print(\"{dbFile} is an opsim version {version} database\".format(dbFile=dbFile, version=opsimdb.opsimVersion))\n",
    "    if opsimdb.opsimVersion == \"V3\":\n",
    "        # For v3 databases:\n",
    "        mjdcol = 'expMJD'\n",
    "        degrees = False\n",
    "    else:\n",
    "        # For v4 and alternate scheduler databases.\n",
    "        mjdcol = 'observationStartMJD'\n",
    "        degrees = True\n",
    "    \n",
    "    # IntraNightGapsMetric returns the gap (in days) between observations within the same night\n",
    "    # custom reduceFunc to find min gaps \n",
    "    metric = metrics.cadenceMetrics.IntraNightGapsMetric(reduceFunc=np.amin, mjdCol=mjdcol)\n",
    "    # PassMetric just pass all values\n",
    "    metric_pass = metrics.simpleMetrics.PassMetric(cols=['filter','fiveSigmaDepth', mjdcol, 'expDate'])\n",
    "    # slicer for slicing pointing history\n",
    "    slicer = slicers.UserPointsSlicer(ra, dec, lonCol='fieldRA', latCol='fieldDec', latLonDeg=degrees)\n",
    "    # sql constrains, here I put none\n",
    "    sql = '' #'night < 365'\n",
    "    \n",
    "    # bundles to combine metric, slicer and sql constrain together\n",
    "    bundle = metricBundles.MetricBundle(metric,slicer,sql)\n",
    "    date_bundle = metricBundles.MetricBundle(metric_pass, slicer, sql)\n",
    "    # In case you are using a dither stacker, we can check what columns are actually being pulled from the database.\n",
    "    print(bundle.dbCols)\n",
    "    \n",
    "    # create metric bundle group and returns\n",
    "    bg = metricBundles.MetricBundleGroup({'sep': bundle, 'cadence':date_bundle}, opsimdb, outDir=outDir, resultsDb=resultsDb)\n",
    "    bg.runAll()\n",
    "    opsimdb.close()\n",
    "    return bg"
   ]
  },
  {
   "cell_type": "code",
   "execution_count": 7,
   "metadata": {},
   "outputs": [],
   "source": [
    "ra = 20\n",
    "dec = 0"
   ]
  },
  {
   "cell_type": "code",
   "execution_count": 8,
   "metadata": {},
   "outputs": [
    {
     "name": "stdout",
     "output_type": "stream",
     "text": [
      "{'night', 'expMJD', 'fieldRA', 'fieldDec'}\n",
      "Querying database Summary with no constraint for columns ['expDate', 'expMJD', 'fieldRA', 'night', 'filter', 'fiveSigmaDepth', 'fieldDec'].\n",
      "Found 2509335 visits\n",
      "Running:  ['sep', 'cadence']\n",
      "Completed metric generation.\n",
      "Running reduce methods.\n",
      "Running summary statistics.\n",
      "Completed.\n"
     ]
    }
   ],
   "source": [
    "# provide the ra, dec (must be in degrees) and the sql_lite database dir\n",
    "# 1st is the baseline cadence\n",
    "NP_result = find_min_gap(BL_noPair, ra, dec)"
   ]
  },
  {
   "cell_type": "code",
   "execution_count": 9,
   "metadata": {},
   "outputs": [
    {
     "name": "stdout",
     "output_type": "stream",
     "text": [
      "{'night', 'expMJD', 'fieldRA', 'fieldDec'}\n",
      "Querying database Summary with no constraint for columns ['expDate', 'expMJD', 'fieldRA', 'night', 'filter', 'fiveSigmaDepth', 'fieldDec'].\n",
      "Found 2447931 visits\n",
      "Running:  ['sep', 'cadence']\n",
      "Completed metric generation.\n",
      "Running reduce methods.\n",
      "Running summary statistics.\n",
      "Completed.\n"
     ]
    }
   ],
   "source": [
    "# Now baseline with no pairs\n",
    "BL_result = find_min_gap(Baseline, ra, dec)"
   ]
  },
  {
   "cell_type": "code",
   "execution_count": 10,
   "metadata": {},
   "outputs": [
    {
     "name": "stdout",
     "output_type": "stream",
     "text": [
      "{'night', 'expMJD', 'fieldRA', 'fieldDec'}\n",
      "Querying database Summary with no constraint for columns ['expDate', 'expMJD', 'fieldRA', 'night', 'filter', 'fiveSigmaDepth', 'fieldDec'].\n",
      "Found 2284261 visits\n",
      "Running:  ['sep', 'cadence']\n",
      "Completed metric generation.\n",
      "Running reduce methods.\n",
      "Running summary statistics.\n",
      "Completed.\n"
     ]
    }
   ],
   "source": [
    "# Now baseline with no pairs\n",
    "R_result = find_min_gap(RollingV2, ra, dec)"
   ]
  },
  {
   "cell_type": "code",
   "execution_count": 11,
   "metadata": {},
   "outputs": [],
   "source": [
    "# assign min intra_night gap in hours to gap\n",
    "gap1 = BL_result.bundleDict['sep'].metricValues.data[0]\n",
    "# assign pointing history to obsHist\n",
    "cadence1 = BL_result.bundleDict['cadence'].metricValues.data[0]\n",
    "# put ra, dec, and gap into array 'pos_gap'\n",
    "meta1 = [ra, dec, gap1, 'minion_1016']\n",
    "\n",
    "# Baseline no pairs\n",
    "gap2 = NP_result.bundleDict['sep'].metricValues.data[0]\n",
    "cadence2 = NP_result.bundleDict['cadence'].metricValues.data[0]\n",
    "meta2 = [ra, dec, gap2,'kraken_1043']\n",
    "\n",
    "# Rolling cadence\n",
    "gap3 = R_result.bundleDict['sep'].metricValues.data[0]\n",
    "cadence3 = R_result.bundleDict['cadence'].metricValues.data[0]\n",
    "meta3= [ra, dec, gap3, 'enigma_1260']\n",
    "\n",
    "# Now let's save it to a file, .npz will be automatically added\n",
    "outfile = '/home/mount/MAF output/all_three'\n",
    "np.savez(outfile, meta1=meta1, cadence1=cadence1, meta2=meta2, cadence2=cadence2, meta3=meta3, cadence3=cadence3)"
   ]
  },
  {
   "cell_type": "code",
   "execution_count": null,
   "metadata": {},
   "outputs": [],
   "source": []
  }
 ],
 "metadata": {
  "kernelspec": {
   "display_name": "Python 3",
   "language": "python",
   "name": "python3"
  },
  "language_info": {
   "codemirror_mode": {
    "name": "ipython",
    "version": 3
   },
   "file_extension": ".py",
   "mimetype": "text/x-python",
   "name": "python",
   "nbconvert_exporter": "python",
   "pygments_lexer": "ipython3",
   "version": "3.6.2"
  }
 },
 "nbformat": 4,
 "nbformat_minor": 2
}
